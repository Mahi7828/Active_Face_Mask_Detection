{
 "cells": [
  {
   "cell_type": "markdown",
   "metadata": {},
   "source": [
    "In the following assignment, we will build a real-time detection model to identify time frames where mask detection needs to be performed. We will achieve this by considering all time frames at a speed of 10 frames per second(for example). The selected time frames should closely match the processing time required for face mask detection.  \n",
    "\n",
    "Basically, you need to process a video and make face mask detection as instants at regular small intervals."
   ]
  },
  {
   "cell_type": "code",
   "execution_count": 1,
   "metadata": {},
   "outputs": [],
   "source": [
    "# imports\n",
    "import cv2\n",
    "import time"
   ]
  },
  {
   "cell_type": "code",
   "execution_count": 2,
   "metadata": {},
   "outputs": [
    {
     "name": "stdout",
     "output_type": "stream",
     "text": [
      "[INFO] Webcam accessed successfully.\n",
      "[INFO] Starting frame sampling... Press 'q' to quit.\n",
      "[INFO] Frame sampling has ended.\n"
     ]
    }
   ],
   "source": [
    "# Define desired frames per second (fps)\n",
    "TARGET_FPS = 10  # change it as per your use\n",
    "TARGET_FRAME_INTERVAL = 1 / TARGET_FPS \n",
    "\n",
    "# Initialize video capture (0 for default webcam)\n",
    "cap = cv2.VideoCapture(0)\n",
    "\n",
    "\n",
    "# TODO:If error msg is printed check permissions for your device camera\n",
    "if not cap.isOpened():\n",
    "    print(\"[ERROR] Unable to access the webcam. Check connection or permissions.\")\n",
    "else:\n",
    "    print(\"[INFO] Webcam accessed successfully.\")\n",
    "\n",
    "\n",
    "print(\"[INFO] Starting frame sampling... Press 'q' to quit.\")\n",
    "\n",
    "\n",
    "# TODO:Track the last processed frame time, fill in place of \"None\"\n",
    "last_frame_time = time.time()\n",
    "\n",
    "while True:\n",
    "    # TODO:Capture the current frame and write exception cases \n",
    "    ret, frame = cap.read()\n",
    "    if not ret:\n",
    "        print(\"[ERROR] Failed to capture frame. Exiting...\")\n",
    "        break\n",
    "\n",
    "    # TODO: Calculate time elapsed since last frame\n",
    "    current_time = time.time()\n",
    "    elapsed_time = current_time - last_frame_time\n",
    "\n",
    "    # TODO:Process frame only if the time interval matches the target\n",
    "    if elapsed_time >= TARGET_FRAME_INTERVAL:\n",
    "        last_frame_time = current_time\n",
    "\n",
    "        # TODO: show the frame\n",
    "        cv2.imshow(\"Frame Sampling\", frame)\n",
    "        # Here we will write code for passing the frame into Neural network for detection\n",
    "        #neural network code here\n",
    "\n",
    "    # TODO:Break the loop on 'q' key press\n",
    "    if cv2.waitKey(1) & 0xFF == ord('q'):\n",
    "        break\n",
    "\n",
    "# TODO:Release video capture and close windows\n",
    "cap.release()\n",
    "cv2.destroyAllWindows()\n",
    "print(\"[INFO] Frame sampling has ended.\")"
   ]
  }
 ],
 "metadata": {
  "kernelspec": {
   "display_name": "Python 3",
   "language": "python",
   "name": "python3"
  },
  "language_info": {
   "codemirror_mode": {
    "name": "ipython",
    "version": 3
   },
   "file_extension": ".py",
   "mimetype": "text/x-python",
   "name": "python",
   "nbconvert_exporter": "python",
   "pygments_lexer": "ipython3",
   "version": "3.12.3"
  }
 },
 "nbformat": 4,
 "nbformat_minor": 2
}
