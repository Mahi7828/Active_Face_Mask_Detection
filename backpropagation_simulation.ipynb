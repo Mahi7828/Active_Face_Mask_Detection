{
 "cells": [
  {
   "cell_type": "markdown",
   "metadata": {},
   "source": [
    "# Assignment: Backpropagation using XOR Dataset\n",
    "\n",
    "In this assignment, you will implement a simple feedforward neural network from scratch using only NumPy.\n",
    "\n",
    "So, we wont be using any inbuilt functions for making a neural network and we gonna use one which is made on our own.\n",
    "\n",
    "Your task is to complete the missing sections marked as \"TODO\" to create, train, and validate the network.\n"
   ]
  },
  {
   "cell_type": "code",
   "execution_count": 1,
   "metadata": {},
   "outputs": [],
   "source": [
    "# Imports \n",
    "import numpy as np"
   ]
  },
  {
   "cell_type": "code",
   "execution_count": 2,
   "metadata": {},
   "outputs": [],
   "source": [
    "# Define the XOR Dataset -- It is XOR truth table inputs and corresponding outputs\n",
    "X = np.array([[0, 0],\n",
    "              [0, 1],\n",
    "              [1, 0],\n",
    "              [1, 1]])  # Inputs\n",
    "y = np.array([[0], [1], [1], [0]])  # Expected outputs (labels)"
   ]
  },
  {
   "cell_type": "markdown",
   "metadata": {},
   "source": [
    "We will initialize parameters, weights and biases for a 2-layer neural network. And we here gonna use sigmoid activation function."
   ]
  },
  {
   "cell_type": "code",
   "execution_count": 7,
   "metadata": {},
   "outputs": [],
   "source": [
    "# Initialize weights and biases\n",
    "def initialize_parameters(input_size, hidden_size, output_size):\n",
    "    np.random.seed(42)  # For reproducibility\n",
    "    W1 = np.random.randn(hidden_size, input_size) * 0.01\n",
    "    b1 = np.random.randn(hidden_size, 1) * 0.01\n",
    "    W2 = np.random.randn(output_size, hidden_size) * 0.01\n",
    "    b2 = np.random.randn(output_size, 1) * 0.01\n",
    "    return W1, b1, W2, b2"
   ]
  },
  {
   "cell_type": "code",
   "execution_count": 8,
   "metadata": {},
   "outputs": [],
   "source": [
    "# Activation Function\n",
    "\n",
    "\"\"\"Sigmoid activation function.\"\"\"\n",
    "def sigmoid(x):\n",
    "    return 1 / (1 + np.exp(-x))\n",
    "\n",
    "\"\"\"Derivative of the sigmoid function.\"\"\"\n",
    "def sigmoid_derivative(x):\n",
    "    return x * (1 - x)"
   ]
  },
  {
   "cell_type": "code",
   "execution_count": 11,
   "metadata": {},
   "outputs": [],
   "source": [
    "# Build a 2-layer neural network with back propagation\n",
    "# TODO: Function for Forward Propagation\n",
    "# Forward propagation\n",
    "def forward_propagation(X, W1, b1, W2, b2):\n",
    "    z1 = np.dot(W1, X) + b1\n",
    "    a1 = sigmoid(z1)\n",
    "    z2 = np.dot(W2, a1) + b2\n",
    "    a2 = sigmoid(z2)\n",
    "    return z1, a1, z2, a2\n",
    "\n",
    "\n",
    "\"\"\"\n",
    "    Perform forward propagation to calculate the output of the network.\n",
    "\n",
    "    Returns:\n",
    "    - z1, a1: Linear and activation outputs of the hidden layer\n",
    "    - z2, a2: Linear and activation outputs of the output layer\n",
    "    \"\"\"\n",
    "\n",
    "\n",
    "#---------------------------------------------------------------------------------------------------------------------------------\n",
    "# TODO: Function for Back Propagation\n",
    "\"\"\"\n",
    "    Perform backpropagation and update weights and biases.\n",
    "\n",
    "    Arguments:\n",
    "    - X: Input data\n",
    "    - y: True labels\n",
    "    - learning_rate: Learning rate for gradient descent\n",
    "    \"\"\"\n",
    "\n",
    "def backward_propagation(X, y, z1, a1, z2, a2, W1, b1, W2, b2, learning_rate=0.1):\n",
    "    m = X.shape[1]  # Number of examples\n",
    "    \n",
    "    # Compute the gradients\n",
    "    dz2 = a2 - y\n",
    "    dW2 = np.dot(dz2, a1.T) / m\n",
    "    db2 = np.sum(dz2, axis=1, keepdims=True) / m\n",
    "    \n",
    "    dz1 = np.dot(W2.T, dz2) * a1 * (1 - a1)\n",
    "    dW1 = np.dot(dz1, X.T) / m\n",
    "    db1 = np.sum(dz1, axis=1, keepdims=True) / m\n",
    "    \n",
    "    # Update the weights and biases\n",
    "    W1 -= learning_rate * dW1\n",
    "    b1 -= learning_rate * db1\n",
    "    W2 -= learning_rate * dW2\n",
    "    b2 -= learning_rate * db2\n",
    "    \n",
    "    return W1, b1, W2, b2\n",
    "    \n",
    "\n",
    "\n"
   ]
  },
  {
   "cell_type": "code",
   "execution_count": 18,
   "metadata": {},
   "outputs": [
    {
     "name": "stdout",
     "output_type": "stream",
     "text": [
      "Epoch 0, Loss: 0.6931533979903326\n",
      "Epoch 1000, Loss: 0.6931471805169978\n",
      "Epoch 2000, Loss: 0.6931471805169591\n",
      "Epoch 3000, Loss: 0.6931471805169205\n",
      "Epoch 4000, Loss: 0.6931471805168818\n",
      "Epoch 5000, Loss: 0.693147180516843\n",
      "Epoch 6000, Loss: 0.6931471805168042\n",
      "Epoch 7000, Loss: 0.6931471805167655\n",
      "Epoch 8000, Loss: 0.6931471805167267\n",
      "Epoch 9000, Loss: 0.6931471805166879\n",
      "\n",
      "Validation:\n",
      "Inputs:\n",
      " [[0 0 1 1]\n",
      " [0 1 0 1]]\n",
      "Predicted Outputs:\n",
      " [[0. 0. 1. 1.]]\n",
      "Expected Outputs:\n",
      " [[0 1 1 0]]\n"
     ]
    },
    {
     "data": {
      "image/png": "[encoded data removed]",
      "text/plain": [
       "<Figure size 800x600 with 1 Axes>"
      ]
     },
     "metadata": {},
     "output_type": "display_data"
    }
   ],
   "source": [
    "import matplotlib.pyplot as plt\n",
    "def compute_loss(y, a2):\n",
    "    m = y.shape[1]\n",
    "    loss = -np.sum(y * np.log(a2) + (1 - y) * np.log(1 - a2)) / m\n",
    "    return loss\n",
    "\n",
    "# Training the model\n",
    "def train_model(X, y, input_size, hidden_size, output_size, epochs, learning_rate):\n",
    "    W1, b1, W2, b2 = initialize_parameters(input_size, hidden_size, output_size)\n",
    "    \n",
    "    for epoch in range(epochs):\n",
    "        # Forward propagation\n",
    "        z1, a1, z2, a2 = forward_propagation(X, W1, b1, W2, b2)\n",
    "        \n",
    "        # Compute the loss\n",
    "        if epoch % 1000 == 0:\n",
    "            loss = compute_loss(y, a2)\n",
    "            print(f\"Epoch {epoch}, Loss: {loss}\")\n",
    "        \n",
    "        # Backward propagation\n",
    "        W1, b1, W2, b2 = backward_propagation(X, y, z1, a1, z2, a2, W1, b1, W2, b2, learning_rate)\n",
    "    \n",
    "    return W1, b1, W2, b2, a2\n",
    "\n",
    "# Example usage\n",
    "input_size = 2\n",
    "hidden_size = 2\n",
    "output_size = 1\n",
    "epochs = 10000\n",
    "learning_rate = 0.1\n",
    "\n",
    "# Example data (replace with actual data)\n",
    "X = np.array([[0, 0, 1, 1], [0, 1, 0, 1]])  # 4 examples with 2 input features\n",
    "y = np.array([[0, 1, 1, 0]])  # Expected outputs (labels)\n",
    "\n",
    "# Train the model\n",
    "W1, b1, W2, b2, output = train_model(X, y, input_size, hidden_size, output_size, epochs, learning_rate)\n",
    "\n",
    "# Validation\n",
    "print(\"\\nValidation:\")\n",
    "print(\"Inputs:\\n\", X)\n",
    "print(\"Predicted Outputs:\\n\", np.round(output))  # Round predictions to 0 or 1\n",
    "print(\"Expected Outputs:\\n\", y)\n",
    "\n",
    "# Plotting Predicted Outputs and Expected Outputs vs Inputs\n",
    "plt.figure(figsize=(8, 6))\n",
    "\n",
    "# Plot input pairs as 2D points\n",
    "for i in range(X.shape[1]):\n",
    "    plt.scatter(X[0, i], X[1, i], color='blue' if y[0, i] == 1 else 'green', label='Expected Outputs' if i == 0 else \"\")\n",
    "    plt.scatter(X[0, i], X[1, i], color='red' if np.round(output[0, i]) == 1 else 'orange', marker='x', label='Predicted Outputs' if i == 0 else \"\")\n",
    "\n",
    "plt.xlabel('Input Feature 1')\n",
    "plt.ylabel('Input Feature 2')\n",
    "plt.title('Predicted vs Expected Outputs')\n",
    "plt.legend()\n",
    "plt.show()\n"
   ]
  },
  {
   "cell_type": "code",
   "execution_count": null,
   "metadata": {},
   "outputs": [],
   "source": []
  }
 ],
 "metadata": {
  "kernelspec": {
   "display_name": "DS203_1",
   "language": "python",
   "name": "python3"
  },
  "language_info": {
   "codemirror_mode": {
    "name": "ipython",
    "version": 3
   },
   "file_extension": ".py",
   "mimetype": "text/x-python",
   "name": "python",
   "nbconvert_exporter": "python",
   "pygments_lexer": "ipython3",
   "version": "3.11.7"
  }
 },
 "nbformat": 4,
 "nbformat_minor": 2
}
